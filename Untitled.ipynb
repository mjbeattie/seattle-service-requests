{
 "cells": [
  {
   "cell_type": "code",
   "execution_count": 2,
   "id": "47cd8d83-1d1c-49fa-b7b7-952cc7d30d1c",
   "metadata": {},
   "outputs": [
    {
     "name": "stdout",
     "output_type": "stream",
     "text": [
      "All files copied successfully!\n"
     ]
    }
   ],
   "source": [
    "import shutil\n",
    "\n",
    "# Define the source and destination filenames\n",
    "source_filename = \"mjb-fifi-0.sbatch\"\n",
    "destination_template = \"mjb-fifi-{}.sbatch\"\n",
    "\n",
    "# Loop through integers from 0 to 9\n",
    "recordcount = 305971\n",
    "blocknum = 0\n",
    "startrow = 0\n",
    "endrow = 5000\n",
    "while endrow < 305971:\n",
    "    blocknum += 1\n",
    "    startrow = endrow\n",
    "    endrow += min(5000, recordcount-endrow)\n",
    "    destination_filename = destination_template.format(blocknum)\n",
    "    shutil.copy(source_filename, destination_filename)\n",
    "#    print(f\"File {source_filename} copied to {destination_filename}\")\n",
    "#    print(blocknum, startrow, endrow)\n",
    "\n",
    "print(\"All files copied successfully!\")\n"
   ]
  }
 ],
 "metadata": {
  "kernelspec": {
   "display_name": "Python 3 (ipykernel)",
   "language": "python",
   "name": "python3"
  },
  "language_info": {
   "codemirror_mode": {
    "name": "ipython",
    "version": 3
   },
   "file_extension": ".py",
   "mimetype": "text/x-python",
   "name": "python",
   "nbconvert_exporter": "python",
   "pygments_lexer": "ipython3",
   "version": "3.8.18"
  }
 },
 "nbformat": 4,
 "nbformat_minor": 5
}
